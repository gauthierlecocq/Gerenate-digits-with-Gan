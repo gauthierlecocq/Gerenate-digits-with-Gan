{
 "cells": [
  {
   "cell_type": "markdown",
   "metadata": {
    "id": "LLXc5YrpnJxa"
   },
   "source": [
    "# Handwritten digits with Gans"
   ]
  },
  {
   "cell_type": "markdown",
   "metadata": {},
   "source": [
    "For this project, we'll work on the MNIST dataset which is a dataset of handwritten numbers using the Generative Adversarial Networks.\n",
    "\n",
    "Thus, we'll have 2 models : a Generator trying to create images and a Discriminator aiming to distinguish the images created by the generator from the real images. "
   ]
  },
  {
   "cell_type": "markdown",
   "metadata": {},
   "source": [
    "## Librairies"
   ]
  },
  {
   "cell_type": "code",
   "execution_count": 31,
   "metadata": {},
   "outputs": [],
   "source": [
    "import tensorflow as tf \n",
    "import glob \n",
    "import matplotlib.pyplot as plt \n",
    "import numpy as np \n",
    "import os \n",
    "import time \n",
    "from IPython import display"
   ]
  },
  {
   "cell_type": "markdown",
   "metadata": {},
   "source": [
    "## Data Import"
   ]
  },
  {
   "cell_type": "code",
   "execution_count": 32,
   "metadata": {
    "colab": {
     "base_uri": "https://localhost:8080/"
    },
    "executionInfo": {
     "elapsed": 3468,
     "status": "ok",
     "timestamp": 1614548966869,
     "user": {
      "displayName": "yeonathan bouaziz",
      "photoUrl": "",
      "userId": "17749615367368707188"
     },
     "user_tz": -120
    },
    "id": "r4mwJdl1ndrC",
    "outputId": "72288800-4037-4e3c-9b30-275591bcdcfe"
   },
   "outputs": [
    {
     "name": "stdout",
     "output_type": "stream",
     "text": [
      "[[[0 0 0 ... 0 0 0]\n",
      "  [0 0 0 ... 0 0 0]\n",
      "  [0 0 0 ... 0 0 0]\n",
      "  ...\n",
      "  [0 0 0 ... 0 0 0]\n",
      "  [0 0 0 ... 0 0 0]\n",
      "  [0 0 0 ... 0 0 0]]\n",
      "\n",
      " [[0 0 0 ... 0 0 0]\n",
      "  [0 0 0 ... 0 0 0]\n",
      "  [0 0 0 ... 0 0 0]\n",
      "  ...\n",
      "  [0 0 0 ... 0 0 0]\n",
      "  [0 0 0 ... 0 0 0]\n",
      "  [0 0 0 ... 0 0 0]]] [5 0]\n"
     ]
    }
   ],
   "source": [
    "\r\n",
    "(X_train, y_train), (X_test, y_test) = tf.keras.datasets.mnist.load_data()\r\n",
    "print(X_train[:2], y_train[:2])\r\n",
    "\r\n"
   ]
  },
  {
   "cell_type": "markdown",
   "metadata": {
    "heading_collapsed": "true",
    "tags": []
   },
   "source": [
    "## Pre-processing"
   ]
  },
  {
   "cell_type": "markdown",
   "metadata": {
    "tags": []
   },
   "source": [
    "### Reshape and Normalization"
   ]
  },
  {
   "cell_type": "markdown",
   "metadata": {},
   "source": [
    "Here, we'll reshape the images so they look like : sample, height, width and channels = 1 (as Neural Networks receive inputs of same size)\n",
    "\n",
    "Then we convert it to float 32 and we Normalize the images to get pixel within [-1,1] (to get similar distribution, it makes convergence faster while training the network)"
   ]
  },
  {
   "cell_type": "code",
   "execution_count": 33,
   "metadata": {
    "colab": {
     "base_uri": "https://localhost:8080/"
    },
    "executionInfo": {
     "elapsed": 594,
     "status": "ok",
     "timestamp": 1614549015360,
     "user": {
      "displayName": "yeonathan bouaziz",
      "photoUrl": "",
      "userId": "17749615367368707188"
     },
     "user_tz": -120
    },
    "id": "zXTsPchjnsvX",
    "outputId": "7146c873-4639-4a48-bd04-265160fd6e00"
   },
   "outputs": [
    {
     "data": {
      "text/plain": [
       "array([[[[-1.],\n",
       "         [-1.],\n",
       "         [-1.],\n",
       "         ...,\n",
       "         [-1.],\n",
       "         [-1.],\n",
       "         [-1.]],\n",
       "\n",
       "        [[-1.],\n",
       "         [-1.],\n",
       "         [-1.],\n",
       "         ...,\n",
       "         [-1.],\n",
       "         [-1.],\n",
       "         [-1.]],\n",
       "\n",
       "        [[-1.],\n",
       "         [-1.],\n",
       "         [-1.],\n",
       "         ...,\n",
       "         [-1.],\n",
       "         [-1.],\n",
       "         [-1.]],\n",
       "\n",
       "        ...,\n",
       "\n",
       "        [[-1.],\n",
       "         [-1.],\n",
       "         [-1.],\n",
       "         ...,\n",
       "         [-1.],\n",
       "         [-1.],\n",
       "         [-1.]],\n",
       "\n",
       "        [[-1.],\n",
       "         [-1.],\n",
       "         [-1.],\n",
       "         ...,\n",
       "         [-1.],\n",
       "         [-1.],\n",
       "         [-1.]],\n",
       "\n",
       "        [[-1.],\n",
       "         [-1.],\n",
       "         [-1.],\n",
       "         ...,\n",
       "         [-1.],\n",
       "         [-1.],\n",
       "         [-1.]]],\n",
       "\n",
       "\n",
       "       [[[-1.],\n",
       "         [-1.],\n",
       "         [-1.],\n",
       "         ...,\n",
       "         [-1.],\n",
       "         [-1.],\n",
       "         [-1.]],\n",
       "\n",
       "        [[-1.],\n",
       "         [-1.],\n",
       "         [-1.],\n",
       "         ...,\n",
       "         [-1.],\n",
       "         [-1.],\n",
       "         [-1.]],\n",
       "\n",
       "        [[-1.],\n",
       "         [-1.],\n",
       "         [-1.],\n",
       "         ...,\n",
       "         [-1.],\n",
       "         [-1.],\n",
       "         [-1.]],\n",
       "\n",
       "        ...,\n",
       "\n",
       "        [[-1.],\n",
       "         [-1.],\n",
       "         [-1.],\n",
       "         ...,\n",
       "         [-1.],\n",
       "         [-1.],\n",
       "         [-1.]],\n",
       "\n",
       "        [[-1.],\n",
       "         [-1.],\n",
       "         [-1.],\n",
       "         ...,\n",
       "         [-1.],\n",
       "         [-1.],\n",
       "         [-1.]],\n",
       "\n",
       "        [[-1.],\n",
       "         [-1.],\n",
       "         [-1.],\n",
       "         ...,\n",
       "         [-1.],\n",
       "         [-1.],\n",
       "         [-1.]]]], dtype=float32)"
      ]
     },
     "execution_count": 33,
     "metadata": {},
     "output_type": "execute_result"
    }
   ],
   "source": [
    "train_images = X_train.reshape(X_train.shape[0], X_train.shape[1], X_train.shape[2], 1).astype(\"float32\")\r\n",
    "train_images = (train_images - 255/2)/(255/2) \r\n",
    "train_images[:2]"
   ]
  },
  {
   "cell_type": "code",
   "execution_count": 34,
   "metadata": {
    "colab": {
     "base_uri": "https://localhost:8080/"
    },
    "executionInfo": {
     "elapsed": 573,
     "status": "ok",
     "timestamp": 1614549021374,
     "user": {
      "displayName": "yeonathan bouaziz",
      "photoUrl": "",
      "userId": "17749615367368707188"
     },
     "user_tz": -120
    },
    "id": "B-9coj4Wnhj5",
    "outputId": "2d16c6de-8404-4d41-c141-864bb4134ea5"
   },
   "outputs": [
    {
     "data": {
      "text/plain": [
       "(60000, 28, 28, 1)"
      ]
     },
     "execution_count": 34,
     "metadata": {},
     "output_type": "execute_result"
    }
   ],
   "source": [
    "train_images.shape"
   ]
  },
  {
   "cell_type": "code",
   "execution_count": 52,
   "metadata": {
    "colab": {
     "base_uri": "https://localhost:8080/"
    },
    "executionInfo": {
     "elapsed": 3049,
     "status": "ok",
     "timestamp": 1614549040784,
     "user": {
      "displayName": "yeonathan bouaziz",
      "photoUrl": "",
      "userId": "17749615367368707188"
     },
     "user_tz": -120
    },
    "id": "qnWJCtr0nvw6",
    "outputId": "de7728b9-0b93-449c-dd56-3eb4dfd7cc05"
   },
   "outputs": [
    {
     "data": {
      "text/plain": [
       "(28, 28, 1)"
      ]
     },
     "execution_count": 52,
     "metadata": {},
     "output_type": "execute_result"
    }
   ],
   "source": [
    "train_images[0].shape"
   ]
  },
  {
   "cell_type": "code",
   "execution_count": 36,
   "metadata": {
    "colab": {
     "base_uri": "https://localhost:8080/"
    },
    "executionInfo": {
     "elapsed": 596,
     "status": "ok",
     "timestamp": 1614549052745,
     "user": {
      "displayName": "yeonathan bouaziz",
      "photoUrl": "",
      "userId": "17749615367368707188"
     },
     "user_tz": -120
    },
    "id": "UDJVp-cfn2Cn",
    "outputId": "56e75e0c-1784-40f4-f3dc-e0e2d0dfce1c"
   },
   "outputs": [
    {
     "data": {
      "text/plain": [
       "(28, 28)"
      ]
     },
     "execution_count": 36,
     "metadata": {},
     "output_type": "execute_result"
    }
   ],
   "source": [
    "train_images[0].reshape(-1,28).shape"
   ]
  },
  {
   "cell_type": "code",
   "execution_count": 37,
   "metadata": {
    "colab": {
     "base_uri": "https://localhost:8080/",
     "height": 283
    },
    "executionInfo": {
     "elapsed": 3561,
     "status": "ok",
     "timestamp": 1614549071348,
     "user": {
      "displayName": "yeonathan bouaziz",
      "photoUrl": "",
      "userId": "17749615367368707188"
     },
     "user_tz": -120
    },
    "id": "ph5w9kW8n5oc",
    "outputId": "0bf74a8f-dfa5-4839-c3fd-620a253a9922"
   },
   "outputs": [
    {
     "data": {
      "text/plain": [
       "<matplotlib.image.AxesImage at 0x1c4098961f0>"
      ]
     },
     "execution_count": 37,
     "metadata": {},
     "output_type": "execute_result"
    },
    {
     "data": {
      "image/png": "[encoded data removed]",
      "text/plain": [
       "<Figure size 432x288 with 1 Axes>"
      ]
     },
     "metadata": {
      "needs_background": "light"
     },
     "output_type": "display_data"
    }
   ],
   "source": [
    "#Vizualisation of an image\n",
    "plt.imshow(train_images[0].squeeze())"
   ]
  },
  {
   "cell_type": "markdown",
   "metadata": {
    "heading_collapsed": "true",
    "tags": []
   },
   "source": [
    "## Dataset"
   ]
  },
  {
   "cell_type": "code",
   "execution_count": 45,
   "metadata": {
    "id": "gE8tZH6moABi"
   },
   "outputs": [],
   "source": [
    "BUFFER_SIZE = 60000\r\n",
    "BATCH_SIZE =256 #Number of training examples utilized in one iteration\r\n",
    "\r\n",
    "train_set = tf.data.Dataset.from_tensor_slices(train_images).shuffle(BUFFER_SIZE).batch(BATCH_SIZE)"
   ]
  },
  {
   "cell_type": "code",
   "execution_count": 46,
   "metadata": {
    "colab": {
     "base_uri": "https://localhost:8080/"
    },
    "executionInfo": {
     "elapsed": 1791,
     "status": "ok",
     "timestamp": 1614549110845,
     "user": {
      "displayName": "yeonathan bouaziz",
      "photoUrl": "",
      "userId": "17749615367368707188"
     },
     "user_tz": -120
    },
    "id": "A1v5mhJRoBwN",
    "outputId": "16d1d2a7-d198-440a-a0de-197c5406b5d4"
   },
   "outputs": [
    {
     "data": {
      "text/plain": [
       "TensorShape([256, 28, 28, 1])"
      ]
     },
     "execution_count": 46,
     "metadata": {},
     "output_type": "execute_result"
    }
   ],
   "source": [
    "#Fetch image in train set and look at the shape\n",
    "next(iter(train_set.take(1))).shape"
   ]
  },
  {
   "cell_type": "code",
   "execution_count": 47,
   "metadata": {
    "colab": {
     "base_uri": "https://localhost:8080/"
    },
    "executionInfo": {
     "elapsed": 809,
     "status": "ok",
     "timestamp": 1614549124723,
     "user": {
      "displayName": "yeonathan bouaziz",
      "photoUrl": "",
      "userId": "17749615367368707188"
     },
     "user_tz": -120
    },
    "id": "whR1d0WYoFk-",
    "outputId": "33ecce97-40e1-45db-d5ad-bd9e3c0d61cb"
   },
   "outputs": [
    {
     "name": "stdout",
     "output_type": "stream",
     "text": [
      "tf.Tensor(\n",
      "[[[[-1.]\n",
      "   [-1.]\n",
      "   [-1.]\n",
      "   ...\n",
      "   [-1.]\n",
      "   [-1.]\n",
      "   [-1.]]\n",
      "\n",
      "  [[-1.]\n",
      "   [-1.]\n",
      "   [-1.]\n",
      "   ...\n",
      "   [-1.]\n",
      "   [-1.]\n",
      "   [-1.]]\n",
      "\n",
      "  [[-1.]\n",
      "   [-1.]\n",
      "   [-1.]\n",
      "   ...\n",
      "   [-1.]\n",
      "   [-1.]\n",
      "   [-1.]]\n",
      "\n",
      "  ...\n",
      "\n",
      "  [[-1.]\n",
      "   [-1.]\n",
      "   [-1.]\n",
      "   ...\n",
      "   [-1.]\n",
      "   [-1.]\n",
      "   [-1.]]\n",
      "\n",
      "  [[-1.]\n",
      "   [-1.]\n",
      "   [-1.]\n",
      "   ...\n",
      "   [-1.]\n",
      "   [-1.]\n",
      "   [-1.]]\n",
      "\n",
      "  [[-1.]\n",
      "   [-1.]\n",
      "   [-1.]\n",
      "   ...\n",
      "   [-1.]\n",
      "   [-1.]\n",
      "   [-1.]]]\n",
      "\n",
      "\n",
      " [[[-1.]\n",
      "   [-1.]\n",
      "   [-1.]\n",
      "   ...\n",
      "   [-1.]\n",
      "   [-1.]\n",
      "   [-1.]]\n",
      "\n",
      "  [[-1.]\n",
      "   [-1.]\n",
      "   [-1.]\n",
      "   ...\n",
      "   [-1.]\n",
      "   [-1.]\n",
      "   [-1.]]\n",
      "\n",
      "  [[-1.]\n",
      "   [-1.]\n",
      "   [-1.]\n",
      "   ...\n",
      "   [-1.]\n",
      "   [-1.]\n",
      "   [-1.]]\n",
      "\n",
      "  ...\n",
      "\n",
      "  [[-1.]\n",
      "   [-1.]\n",
      "   [-1.]\n",
      "   ...\n",
      "   [-1.]\n",
      "   [-1.]\n",
      "   [-1.]]\n",
      "\n",
      "  [[-1.]\n",
      "   [-1.]\n",
      "   [-1.]\n",
      "   ...\n",
      "   [-1.]\n",
      "   [-1.]\n",
      "   [-1.]]\n",
      "\n",
      "  [[-1.]\n",
      "   [-1.]\n",
      "   [-1.]\n",
      "   ...\n",
      "   [-1.]\n",
      "   [-1.]\n",
      "   [-1.]]]\n",
      "\n",
      "\n",
      " [[[-1.]\n",
      "   [-1.]\n",
      "   [-1.]\n",
      "   ...\n",
      "   [-1.]\n",
      "   [-1.]\n",
      "   [-1.]]\n",
      "\n",
      "  [[-1.]\n",
      "   [-1.]\n",
      "   [-1.]\n",
      "   ...\n",
      "   [-1.]\n",
      "   [-1.]\n",
      "   [-1.]]\n",
      "\n",
      "  [[-1.]\n",
      "   [-1.]\n",
      "   [-1.]\n",
      "   ...\n",
      "   [-1.]\n",
      "   [-1.]\n",
      "   [-1.]]\n",
      "\n",
      "  ...\n",
      "\n",
      "  [[-1.]\n",
      "   [-1.]\n",
      "   [-1.]\n",
      "   ...\n",
      "   [-1.]\n",
      "   [-1.]\n",
      "   [-1.]]\n",
      "\n",
      "  [[-1.]\n",
      "   [-1.]\n",
      "   [-1.]\n",
      "   ...\n",
      "   [-1.]\n",
      "   [-1.]\n",
      "   [-1.]]\n",
      "\n",
      "  [[-1.]\n",
      "   [-1.]\n",
      "   [-1.]\n",
      "   ...\n",
      "   [-1.]\n",
      "   [-1.]\n",
      "   [-1.]]]\n",
      "\n",
      "\n",
      " ...\n",
      "\n",
      "\n",
      " [[[-1.]\n",
      "   [-1.]\n",
      "   [-1.]\n",
      "   ...\n",
      "   [-1.]\n",
      "   [-1.]\n",
      "   [-1.]]\n",
      "\n",
      "  [[-1.]\n",
      "   [-1.]\n",
      "   [-1.]\n",
      "   ...\n",
      "   [-1.]\n",
      "   [-1.]\n",
      "   [-1.]]\n",
      "\n",
      "  [[-1.]\n",
      "   [-1.]\n",
      "   [-1.]\n",
      "   ...\n",
      "   [-1.]\n",
      "   [-1.]\n",
      "   [-1.]]\n",
      "\n",
      "  ...\n",
      "\n",
      "  [[-1.]\n",
      "   [-1.]\n",
      "   [-1.]\n",
      "   ...\n",
      "   [-1.]\n",
      "   [-1.]\n",
      "   [-1.]]\n",
      "\n",
      "  [[-1.]\n",
      "   [-1.]\n",
      "   [-1.]\n",
      "   ...\n",
      "   [-1.]\n",
      "   [-1.]\n",
      "   [-1.]]\n",
      "\n",
      "  [[-1.]\n",
      "   [-1.]\n",
      "   [-1.]\n",
      "   ...\n",
      "   [-1.]\n",
      "   [-1.]\n",
      "   [-1.]]]\n",
      "\n",
      "\n",
      " [[[-1.]\n",
      "   [-1.]\n",
      "   [-1.]\n",
      "   ...\n",
      "   [-1.]\n",
      "   [-1.]\n",
      "   [-1.]]\n",
      "\n",
      "  [[-1.]\n",
      "   [-1.]\n",
      "   [-1.]\n",
      "   ...\n",
      "   [-1.]\n",
      "   [-1.]\n",
      "   [-1.]]\n",
      "\n",
      "  [[-1.]\n",
      "   [-1.]\n",
      "   [-1.]\n",
      "   ...\n",
      "   [-1.]\n",
      "   [-1.]\n",
      "   [-1.]]\n",
      "\n",
      "  ...\n",
      "\n",
      "  [[-1.]\n",
      "   [-1.]\n",
      "   [-1.]\n",
      "   ...\n",
      "   [-1.]\n",
      "   [-1.]\n",
      "   [-1.]]\n",
      "\n",
      "  [[-1.]\n",
      "   [-1.]\n",
      "   [-1.]\n",
      "   ...\n",
      "   [-1.]\n",
      "   [-1.]\n",
      "   [-1.]]\n",
      "\n",
      "  [[-1.]\n",
      "   [-1.]\n",
      "   [-1.]\n",
      "   ...\n",
      "   [-1.]\n",
      "   [-1.]\n",
      "   [-1.]]]\n",
      "\n",
      "\n",
      " [[[-1.]\n",
      "   [-1.]\n",
      "   [-1.]\n",
      "   ...\n",
      "   [-1.]\n",
      "   [-1.]\n",
      "   [-1.]]\n",
      "\n",
      "  [[-1.]\n",
      "   [-1.]\n",
      "   [-1.]\n",
      "   ...\n",
      "   [-1.]\n",
      "   [-1.]\n",
      "   [-1.]]\n",
      "\n",
      "  [[-1.]\n",
      "   [-1.]\n",
      "   [-1.]\n",
      "   ...\n",
      "   [-1.]\n",
      "   [-1.]\n",
      "   [-1.]]\n",
      "\n",
      "  ...\n",
      "\n",
      "  [[-1.]\n",
      "   [-1.]\n",
      "   [-1.]\n",
      "   ...\n",
      "   [-1.]\n",
      "   [-1.]\n",
      "   [-1.]]\n",
      "\n",
      "  [[-1.]\n",
      "   [-1.]\n",
      "   [-1.]\n",
      "   ...\n",
      "   [-1.]\n",
      "   [-1.]\n",
      "   [-1.]]\n",
      "\n",
      "  [[-1.]\n",
      "   [-1.]\n",
      "   [-1.]\n",
      "   ...\n",
      "   [-1.]\n",
      "   [-1.]\n",
      "   [-1.]]]], shape=(256, 28, 28, 1), dtype=float32)\n"
     ]
    }
   ],
   "source": [
    "for i in train_set.take(1):\r\n",
    "  print(i)"
   ]
  },
  {
   "cell_type": "markdown",
   "metadata": {
    "tags": []
   },
   "source": [
    "# Generator"
   ]
  },
  {
   "cell_type": "markdown",
   "metadata": {},
   "source": [
    "The model will take as input random pixels (noise). They will go through series of layers which will produce an image from the random seed."
   ]
  },
  {
   "cell_type": "code",
   "execution_count": 84,
   "metadata": {},
   "outputs": [],
   "source": [
    " #LeakyRelu Because it does not set neuron to 0 if not active but leaves gradient"
   ]
  },
  {
   "cell_type": "code",
   "execution_count": 53,
   "metadata": {},
   "outputs": [],
   "source": [
    "def make_generator_model():\n",
    "    model = tf.keras.Sequential([\n",
    "        tf.keras.layers.Dense(7*7*256, use_bias=False, input_shape=(100,)),\n",
    "        tf.keras.layers.BatchNormalization(),\n",
    "        tf.keras.layers.LeakyReLU(),\n",
    "        \n",
    "        tf.keras.layers.Reshape((7,7, 256)),\n",
    "        \n",
    "        tf.keras.layers.Conv2DTranspose(128, (5, 5), strides=(1, 1), padding='same', use_bias=False),\n",
    "        tf.keras.layers.BatchNormalization(),\n",
    "        tf.keras.layers.LeakyReLU(),\n",
    "        \n",
    "        tf.keras.layers.Conv2DTranspose(64, (5, 5), strides=(2, 2), padding='same', use_bias=False),\n",
    "        tf.keras.layers.BatchNormalization(),\n",
    "        tf.keras.layers.LeakyReLU(),\n",
    "        \n",
    "        tf.keras.layers.Conv2DTranspose(1, (5, 5), strides=(2, 2), padding='same', use_bias=False, activation=\"tanh\")\n",
    "        \n",
    "                                ])\n",
    "\n",
    "    return model"
   ]
  },
  {
   "cell_type": "markdown",
   "metadata": {},
   "source": [
    "Let's look at an example"
   ]
  },
  {
   "cell_type": "code",
   "execution_count": 58,
   "metadata": {
    "colab": {
     "base_uri": "https://localhost:8080/",
     "height": 283
    },
    "executionInfo": {
     "elapsed": 9338,
     "status": "ok",
     "timestamp": 1614549222408,
     "user": {
      "displayName": "yeonathan bouaziz",
      "photoUrl": "",
      "userId": "17749615367368707188"
     },
     "user_tz": -120
    },
    "id": "yNBGp4vEoW0f",
    "outputId": "e228390a-51b0-4d8b-8e9d-ec20935344ef"
   },
   "outputs": [
    {
     "data": {
      "text/plain": [
       "<matplotlib.image.AxesImage at 0x1c40618ffa0>"
      ]
     },
     "execution_count": 58,
     "metadata": {},
     "output_type": "execute_result"
    },
    {
     "data": {
      "image/png": "[encoded data removed]",
      "text/plain": [
       "<Figure size 432x288 with 1 Axes>"
      ]
     },
     "metadata": {
      "needs_background": "light"
     },
     "output_type": "display_data"
    }
   ],
   "source": [
    "\r\n",
    "\r\n",
    "### model instantiation\r\n",
    "generator = make_generator_model()\r\n",
    "\r\n",
    "### Random pixel size creation (1, 100)\r\n",
    "random_pixels = tf.random.normal([1,100])\r\n",
    "\r\n",
    "### Model application\r\n",
    "rand_img = generator(random_pixels, training=False)\r\n",
    "\r\n",
    "### Model visualisation\r\n",
    "plt.imshow(rand_img.numpy().squeeze(), cmap=\"gray\")\r\n",
    "\r\n"
   ]
  },
  {
   "cell_type": "markdown",
   "metadata": {},
   "source": [
    "It works but as expected, it is unreadable"
   ]
  },
  {
   "cell_type": "code",
   "execution_count": 59,
   "metadata": {
    "colab": {
     "base_uri": "https://localhost:8080/"
    },
    "executionInfo": {
     "elapsed": 577,
     "status": "ok",
     "timestamp": 1614549237476,
     "user": {
      "displayName": "yeonathan bouaziz",
      "photoUrl": "",
      "userId": "17749615367368707188"
     },
     "user_tz": -120
    },
    "id": "d9qE3chYofk-",
    "outputId": "e58d1e31-f96a-423d-ba57-19606e507977"
   },
   "outputs": [
    {
     "name": "stdout",
     "output_type": "stream",
     "text": [
      "Model: \"sequential_3\"\n",
      "_________________________________________________________________\n",
      "Layer (type)                 Output Shape              Param #   \n",
      "=================================================================\n",
      "dense_3 (Dense)              (None, 12544)             1254400   \n",
      "_________________________________________________________________\n",
      "batch_normalization_9 (Batch (None, 12544)             50176     \n",
      "_________________________________________________________________\n",
      "leaky_re_lu_9 (LeakyReLU)    (None, 12544)             0         \n",
      "_________________________________________________________________\n",
      "reshape_3 (Reshape)          (None, 7, 7, 256)         0         \n",
      "_________________________________________________________________\n",
      "conv2d_transpose_9 (Conv2DTr (None, 7, 7, 128)         819200    \n",
      "_________________________________________________________________\n",
      "batch_normalization_10 (Batc (None, 7, 7, 128)         512       \n",
      "_________________________________________________________________\n",
      "leaky_re_lu_10 (LeakyReLU)   (None, 7, 7, 128)         0         \n",
      "_________________________________________________________________\n",
      "conv2d_transpose_10 (Conv2DT (None, 14, 14, 64)        204800    \n",
      "_________________________________________________________________\n",
      "batch_normalization_11 (Batc (None, 14, 14, 64)        256       \n",
      "_________________________________________________________________\n",
      "leaky_re_lu_11 (LeakyReLU)   (None, 14, 14, 64)        0         \n",
      "_________________________________________________________________\n",
      "conv2d_transpose_11 (Conv2DT (None, 28, 28, 1)         1600      \n",
      "=================================================================\n",
      "Total params: 2,330,944\n",
      "Trainable params: 2,305,472\n",
      "Non-trainable params: 25,472\n",
      "_________________________________________________________________\n"
     ]
    }
   ],
   "source": [
    "generator.summary()"
   ]
  },
  {
   "cell_type": "markdown",
   "metadata": {},
   "source": [
    "# Discrimator"
   ]
  },
  {
   "cell_type": "markdown",
   "metadata": {},
   "source": [
    "So here, the goal is to create simple binary CNN predicting if the image is fake or not"
   ]
  },
  {
   "cell_type": "code",
   "execution_count": 60,
   "metadata": {
    "id": "_ztaBf4CooNt"
   },
   "outputs": [],
   "source": [
    "def make_discriminator_model():\r\n",
    "  \r\n",
    "    model = tf.keras.Sequential([\r\n",
    "        \r\n",
    "        tf.keras.layers.Conv2D(64, (5, 5), strides=(2, 2), padding='same', input_shape=[28, 28, 1]),\r\n",
    "        tf.keras.layers.LeakyReLU(),\r\n",
    "        tf.keras.layers.Dropout(0.3),\r\n",
    "        \r\n",
    "        tf.keras.layers.Conv2D(128, (5,5), strides=(2,2), padding=\"same\"),\r\n",
    "        tf.keras.layers.LeakyReLU(),\r\n",
    "        tf.keras.layers.Dropout(0.3),\r\n",
    "        \r\n",
    "        tf.keras.layers.Flatten(),\r\n",
    "        tf.keras.layers.Dense(1)\r\n",
    "        #tf.keras.layers.Dense(1, activation = \"sigmoid\")        \r\n",
    "    ])\r\n",
    "\r\n",
    "    return model"
   ]
  },
  {
   "cell_type": "markdown",
   "metadata": {},
   "source": [
    "Example here : "
   ]
  },
  {
   "cell_type": "code",
   "execution_count": 61,
   "metadata": {
    "colab": {
     "base_uri": "https://localhost:8080/"
    },
    "executionInfo": {
     "elapsed": 641,
     "status": "ok",
     "timestamp": 1614549285017,
     "user": {
      "displayName": "yeonathan bouaziz",
      "photoUrl": "",
      "userId": "17749615367368707188"
     },
     "user_tz": -120
    },
    "id": "GkgnJWbyosiC",
    "outputId": "8c02ef42-4d2c-4a67-e97e-877889d394a5"
   },
   "outputs": [
    {
     "data": {
      "text/plain": [
       "<tf.Tensor: shape=(1, 1), dtype=float32, numpy=array([[0.00218681]], dtype=float32)>"
      ]
     },
     "execution_count": 61,
     "metadata": {},
     "output_type": "execute_result"
    }
   ],
   "source": [
    "discriminator = make_discriminator_model()\r\n",
    "discriminator(rand_img, training=False)"
   ]
  },
  {
   "cell_type": "markdown",
   "metadata": {},
   "source": [
    "# Cost Functions"
   ]
  },
  {
   "cell_type": "code",
   "execution_count": 63,
   "metadata": {},
   "outputs": [
    {
     "data": {
      "text/plain": [
       "<tensorflow.python.keras.losses.BinaryCrossentropy at 0x1c4061e4940>"
      ]
     },
     "execution_count": 63,
     "metadata": {},
     "output_type": "execute_result"
    }
   ],
   "source": [
    "cross_entropy = tf.keras.losses.BinaryCrossentropy(from_logits=True)\n",
    "# cross_entropy = tf.keras.losses.BinaryCrossentropy(from_logits=False)\n",
    "cross_entropy"
   ]
  },
  {
   "cell_type": "code",
   "execution_count": 64,
   "metadata": {
    "id": "Ly_PUV6eo30-"
   },
   "outputs": [],
   "source": [
    "#Define how well our discrimator distinuishes false from real\n",
    "def discriminator_loss(real_outputs, fake_outputs):\r\n",
    "  real_loss = cross_entropy(tf.ones_like(real_outputs), real_outputs)\r\n",
    "  fake_loss = cross_entropy(tf.zeros_like(fake_outputs), fake_outputs)\r\n",
    "  \r\n",
    "  total_loss = real_loss + fake_loss \r\n",
    "  return total_loss"
   ]
  },
  {
   "cell_type": "code",
   "execution_count": 66,
   "metadata": {
    "id": "_NnVboaYo-lQ"
   },
   "outputs": [],
   "source": [
    "#Define how well the model fool the discriminator, if the descriminator defines a fake image as atrue image' it should lower the `generator_loss'.\n",
    "def generator_loss(fake_outputs):\r\n",
    "  return cross_entropy(tf.ones_like(fake_outputs), fake_outputs)"
   ]
  },
  {
   "cell_type": "code",
   "execution_count": 67,
   "metadata": {
    "id": "750QmM05pC01"
   },
   "outputs": [],
   "source": [
    "#optimizers for our two cost functions.\n",
    "generator_optimizer = tf.keras.optimizers.Adam(1e-4)\r\n",
    "discriminator_optimizer = tf.keras.optimizers.Adam(1e-4)"
   ]
  },
  {
   "cell_type": "code",
   "execution_count": 80,
   "metadata": {},
   "outputs": [],
   "source": [
    "# Noise dim : The dimension of our random tensor\n",
    "# num examples : We will create 16 random images\n",
    "# seed : Our random images"
   ]
  },
  {
   "cell_type": "code",
   "execution_count": 79,
   "metadata": {},
   "outputs": [],
   "source": [
    "EPOCHS = 70\n",
    "noise_dim = 100\n",
    "num_examples_to_generate = 16\n",
    "seed = tf.random.normal([num_examples_to_generate, noise_dim])"
   ]
  },
  {
   "cell_type": "markdown",
   "metadata": {
    "id": "dKjIq0mapTBc"
   },
   "source": [
    "We will now define a train_step function that will define how a step in the model training will occur._gradients\r\n"
   ]
  },
  {
   "cell_type": "code",
   "execution_count": 81,
   "metadata": {
    "id": "CRdtW3A9puP_"
   },
   "outputs": [],
   "source": [
    "\r\n",
    "# This annotation causes the function to be \"compiled\".\r\n",
    "@tf.function\r\n",
    "def train_step(images):\r\n",
    "    noise = tf.random.normal([BATCH_SIZE, noise_dim])\r\n",
    "\r\n",
    "    with tf.GradientTape() as gen_tape, tf.GradientTape() as disc_tape:\r\n",
    "      generated_images = generator(noise, training=True)\r\n",
    "\r\n",
    "      real_output = discriminator(images, training=True)\r\n",
    "      fake_output = discriminator(generated_images, training=True)\r\n",
    "\r\n",
    "      gen_loss = generator_loss(fake_output)\r\n",
    "      disc_loss = discriminator_loss(real_output, fake_output)\r\n",
    "\r\n",
    "    gradients_of_generator = gen_tape.gradient(gen_loss, generator.trainable_variables)\r\n",
    "    gradients_of_discriminator = disc_tape.gradient(disc_loss, discriminator.trainable_variables)\r\n",
    "\r\n",
    "    generator_optimizer.apply_gradients(zip(gradients_of_generator, generator.trainable_variables))\r\n",
    "    discriminator_optimizer.apply_gradients(zip(gradients_of_discriminator, discriminator.trainable_variables))"
   ]
  },
  {
   "cell_type": "markdown",
   "metadata": {
    "id": "xHmiA4pQqff8"
   },
   "source": [
    "Before applying our training function, we will have to create a last function that will allow us to generate and save an image."
   ]
  },
  {
   "cell_type": "code",
   "execution_count": 82,
   "metadata": {
    "id": "v1mJ5VNVqhL9"
   },
   "outputs": [],
   "source": [
    "def generate_and_save_images(model, epoch, test_input):\r\n",
    "  # Notice `training` is set to False.\r\n",
    "  # This is so all layers run in inference mode (batchnorm).\r\n",
    "  predictions = model(test_input, training=False)\r\n",
    "\r\n",
    "  fig = plt.figure(figsize=(4,4))\r\n",
    "\r\n",
    "  for i in range(predictions.shape[0]):\r\n",
    "      plt.subplot(4, 4, i+1)\r\n",
    "      plt.imshow(predictions[i, :, :, 0] * 127.5 + 127.5, cmap='gray')\r\n",
    "      plt.axis('off')\r\n",
    "\r\n",
    "  plt.savefig('image_at_epoch_{:04d}.png'.format(epoch))\r\n",
    "  plt.show()"
   ]
  },
  {
   "cell_type": "markdown",
   "metadata": {},
   "source": [
    "Let's start the training"
   ]
  },
  {
   "cell_type": "markdown",
   "metadata": {},
   "source": [
    "(Had to stop early, computer was overheating)"
   ]
  },
  {
   "cell_type": "code",
   "execution_count": 83,
   "metadata": {
    "colab": {
     "base_uri": "https://localhost:8080/",
     "height": 266
    },
    "id": "UVNpxM_cq0T4",
    "outputId": "4be7b0c6-b6f0-403c-ab99-3372bcf53b0d"
   },
   "outputs": [
    {
     "data": {
      "image/png": "[encoded data removed]",
      "text/plain": [
       "<Figure size 288x288 with 16 Axes>"
      ]
     },
     "metadata": {
      "needs_background": "light"
     },
     "output_type": "display_data"
    },
    {
     "name": "stdout",
     "output_type": "stream",
     "text": [
      "Time for epoch 7 is 178.0794641971588 sec\n"
     ]
    },
    {
     "ename": "KeyboardInterrupt",
     "evalue": "",
     "output_type": "error",
     "traceback": [
      "\u001b[1;31m---------------------------------------------------------------------------\u001b[0m",
      "\u001b[1;31mKeyboardInterrupt\u001b[0m                         Traceback (most recent call last)",
      "\u001b[1;32m<ipython-input-83-187f37053c9f>\u001b[0m in \u001b[0;36m<module>\u001b[1;34m\u001b[0m\n\u001b[0;32m      4\u001b[0m \u001b[1;33m\u001b[0m\u001b[0m\n\u001b[0;32m      5\u001b[0m   \u001b[1;32mfor\u001b[0m \u001b[0mimage_batch\u001b[0m \u001b[1;32min\u001b[0m \u001b[0mtrain_set\u001b[0m\u001b[1;33m:\u001b[0m\u001b[1;33m\u001b[0m\u001b[1;33m\u001b[0m\u001b[0m\n\u001b[1;32m----> 6\u001b[1;33m     \u001b[0mtrain_step\u001b[0m\u001b[1;33m(\u001b[0m\u001b[0mimage_batch\u001b[0m\u001b[1;33m)\u001b[0m\u001b[1;33m\u001b[0m\u001b[1;33m\u001b[0m\u001b[0m\n\u001b[0m\u001b[0;32m      7\u001b[0m \u001b[1;33m\u001b[0m\u001b[0m\n\u001b[0;32m      8\u001b[0m   \u001b[1;31m# Save the new image\u001b[0m\u001b[1;33m\u001b[0m\u001b[1;33m\u001b[0m\u001b[1;33m\u001b[0m\u001b[0m\n",
      "\u001b[1;32m~\\anaconda3\\envs\\salto\\lib\\site-packages\\tensorflow\\python\\eager\\def_function.py\u001b[0m in \u001b[0;36m__call__\u001b[1;34m(self, *args, **kwds)\u001b[0m\n\u001b[0;32m    887\u001b[0m \u001b[1;33m\u001b[0m\u001b[0m\n\u001b[0;32m    888\u001b[0m       \u001b[1;32mwith\u001b[0m \u001b[0mOptionalXlaContext\u001b[0m\u001b[1;33m(\u001b[0m\u001b[0mself\u001b[0m\u001b[1;33m.\u001b[0m\u001b[0m_jit_compile\u001b[0m\u001b[1;33m)\u001b[0m\u001b[1;33m:\u001b[0m\u001b[1;33m\u001b[0m\u001b[1;33m\u001b[0m\u001b[0m\n\u001b[1;32m--> 889\u001b[1;33m         \u001b[0mresult\u001b[0m \u001b[1;33m=\u001b[0m \u001b[0mself\u001b[0m\u001b[1;33m.\u001b[0m\u001b[0m_call\u001b[0m\u001b[1;33m(\u001b[0m\u001b[1;33m*\u001b[0m\u001b[0margs\u001b[0m\u001b[1;33m,\u001b[0m \u001b[1;33m**\u001b[0m\u001b[0mkwds\u001b[0m\u001b[1;33m)\u001b[0m\u001b[1;33m\u001b[0m\u001b[1;33m\u001b[0m\u001b[0m\n\u001b[0m\u001b[0;32m    890\u001b[0m \u001b[1;33m\u001b[0m\u001b[0m\n\u001b[0;32m    891\u001b[0m       \u001b[0mnew_tracing_count\u001b[0m \u001b[1;33m=\u001b[0m \u001b[0mself\u001b[0m\u001b[1;33m.\u001b[0m\u001b[0mexperimental_get_tracing_count\u001b[0m\u001b[1;33m(\u001b[0m\u001b[1;33m)\u001b[0m\u001b[1;33m\u001b[0m\u001b[1;33m\u001b[0m\u001b[0m\n",
      "\u001b[1;32m~\\anaconda3\\envs\\salto\\lib\\site-packages\\tensorflow\\python\\eager\\def_function.py\u001b[0m in \u001b[0;36m_call\u001b[1;34m(self, *args, **kwds)\u001b[0m\n\u001b[0;32m    915\u001b[0m       \u001b[1;31m# In this case we have created variables on the first call, so we run the\u001b[0m\u001b[1;33m\u001b[0m\u001b[1;33m\u001b[0m\u001b[1;33m\u001b[0m\u001b[0m\n\u001b[0;32m    916\u001b[0m       \u001b[1;31m# defunned version which is guaranteed to never create variables.\u001b[0m\u001b[1;33m\u001b[0m\u001b[1;33m\u001b[0m\u001b[1;33m\u001b[0m\u001b[0m\n\u001b[1;32m--> 917\u001b[1;33m       \u001b[1;32mreturn\u001b[0m \u001b[0mself\u001b[0m\u001b[1;33m.\u001b[0m\u001b[0m_stateless_fn\u001b[0m\u001b[1;33m(\u001b[0m\u001b[1;33m*\u001b[0m\u001b[0margs\u001b[0m\u001b[1;33m,\u001b[0m \u001b[1;33m**\u001b[0m\u001b[0mkwds\u001b[0m\u001b[1;33m)\u001b[0m  \u001b[1;31m# pylint: disable=not-callable\u001b[0m\u001b[1;33m\u001b[0m\u001b[1;33m\u001b[0m\u001b[0m\n\u001b[0m\u001b[0;32m    918\u001b[0m     \u001b[1;32melif\u001b[0m \u001b[0mself\u001b[0m\u001b[1;33m.\u001b[0m\u001b[0m_stateful_fn\u001b[0m \u001b[1;32mis\u001b[0m \u001b[1;32mnot\u001b[0m \u001b[1;32mNone\u001b[0m\u001b[1;33m:\u001b[0m\u001b[1;33m\u001b[0m\u001b[1;33m\u001b[0m\u001b[0m\n\u001b[0;32m    919\u001b[0m       \u001b[1;31m# Release the lock early so that multiple threads can perform the call\u001b[0m\u001b[1;33m\u001b[0m\u001b[1;33m\u001b[0m\u001b[1;33m\u001b[0m\u001b[0m\n",
      "\u001b[1;32m~\\anaconda3\\envs\\salto\\lib\\site-packages\\tensorflow\\python\\eager\\function.py\u001b[0m in \u001b[0;36m__call__\u001b[1;34m(self, *args, **kwargs)\u001b[0m\n\u001b[0;32m   3021\u001b[0m       (graph_function,\n\u001b[0;32m   3022\u001b[0m        filtered_flat_args) = self._maybe_define_function(args, kwargs)\n\u001b[1;32m-> 3023\u001b[1;33m     return graph_function._call_flat(\n\u001b[0m\u001b[0;32m   3024\u001b[0m         filtered_flat_args, captured_inputs=graph_function.captured_inputs)  # pylint: disable=protected-access\n\u001b[0;32m   3025\u001b[0m \u001b[1;33m\u001b[0m\u001b[0m\n",
      "\u001b[1;32m~\\anaconda3\\envs\\salto\\lib\\site-packages\\tensorflow\\python\\eager\\function.py\u001b[0m in \u001b[0;36m_call_flat\u001b[1;34m(self, args, captured_inputs, cancellation_manager)\u001b[0m\n\u001b[0;32m   1958\u001b[0m         and executing_eagerly):\n\u001b[0;32m   1959\u001b[0m       \u001b[1;31m# No tape is watching; skip to running the function.\u001b[0m\u001b[1;33m\u001b[0m\u001b[1;33m\u001b[0m\u001b[1;33m\u001b[0m\u001b[0m\n\u001b[1;32m-> 1960\u001b[1;33m       return self._build_call_outputs(self._inference_function.call(\n\u001b[0m\u001b[0;32m   1961\u001b[0m           ctx, args, cancellation_manager=cancellation_manager))\n\u001b[0;32m   1962\u001b[0m     forward_backward = self._select_forward_and_backward_functions(\n",
      "\u001b[1;32m~\\anaconda3\\envs\\salto\\lib\\site-packages\\tensorflow\\python\\eager\\function.py\u001b[0m in \u001b[0;36mcall\u001b[1;34m(self, ctx, args, cancellation_manager)\u001b[0m\n\u001b[0;32m    589\u001b[0m       \u001b[1;32mwith\u001b[0m \u001b[0m_InterpolateFunctionError\u001b[0m\u001b[1;33m(\u001b[0m\u001b[0mself\u001b[0m\u001b[1;33m)\u001b[0m\u001b[1;33m:\u001b[0m\u001b[1;33m\u001b[0m\u001b[1;33m\u001b[0m\u001b[0m\n\u001b[0;32m    590\u001b[0m         \u001b[1;32mif\u001b[0m \u001b[0mcancellation_manager\u001b[0m \u001b[1;32mis\u001b[0m \u001b[1;32mNone\u001b[0m\u001b[1;33m:\u001b[0m\u001b[1;33m\u001b[0m\u001b[1;33m\u001b[0m\u001b[0m\n\u001b[1;32m--> 591\u001b[1;33m           outputs = execute.execute(\n\u001b[0m\u001b[0;32m    592\u001b[0m               \u001b[0mstr\u001b[0m\u001b[1;33m(\u001b[0m\u001b[0mself\u001b[0m\u001b[1;33m.\u001b[0m\u001b[0msignature\u001b[0m\u001b[1;33m.\u001b[0m\u001b[0mname\u001b[0m\u001b[1;33m)\u001b[0m\u001b[1;33m,\u001b[0m\u001b[1;33m\u001b[0m\u001b[1;33m\u001b[0m\u001b[0m\n\u001b[0;32m    593\u001b[0m               \u001b[0mnum_outputs\u001b[0m\u001b[1;33m=\u001b[0m\u001b[0mself\u001b[0m\u001b[1;33m.\u001b[0m\u001b[0m_num_outputs\u001b[0m\u001b[1;33m,\u001b[0m\u001b[1;33m\u001b[0m\u001b[1;33m\u001b[0m\u001b[0m\n",
      "\u001b[1;32m~\\anaconda3\\envs\\salto\\lib\\site-packages\\tensorflow\\python\\eager\\execute.py\u001b[0m in \u001b[0;36mquick_execute\u001b[1;34m(op_name, num_outputs, inputs, attrs, ctx, name)\u001b[0m\n\u001b[0;32m     57\u001b[0m   \u001b[1;32mtry\u001b[0m\u001b[1;33m:\u001b[0m\u001b[1;33m\u001b[0m\u001b[1;33m\u001b[0m\u001b[0m\n\u001b[0;32m     58\u001b[0m     \u001b[0mctx\u001b[0m\u001b[1;33m.\u001b[0m\u001b[0mensure_initialized\u001b[0m\u001b[1;33m(\u001b[0m\u001b[1;33m)\u001b[0m\u001b[1;33m\u001b[0m\u001b[1;33m\u001b[0m\u001b[0m\n\u001b[1;32m---> 59\u001b[1;33m     tensors = pywrap_tfe.TFE_Py_Execute(ctx._handle, device_name, op_name,\n\u001b[0m\u001b[0;32m     60\u001b[0m                                         inputs, attrs, num_outputs)\n\u001b[0;32m     61\u001b[0m   \u001b[1;32mexcept\u001b[0m \u001b[0mcore\u001b[0m\u001b[1;33m.\u001b[0m\u001b[0m_NotOkStatusException\u001b[0m \u001b[1;32mas\u001b[0m \u001b[0me\u001b[0m\u001b[1;33m:\u001b[0m\u001b[1;33m\u001b[0m\u001b[1;33m\u001b[0m\u001b[0m\n",
      "\u001b[1;31mKeyboardInterrupt\u001b[0m: "
     ]
    }
   ],
   "source": [
    "EPOCHS = 100\r\n",
    "for epoch in range(EPOCHS):\r\n",
    "  start = time.time()\r\n",
    "\r\n",
    "  for image_batch in train_set:\r\n",
    "    train_step(image_batch)\r\n",
    "\r\n",
    "  # Save the new image \r\n",
    "  display.clear_output(wait=True)\r\n",
    "  generate_and_save_images(generator,\r\n",
    "                           epoch + 1,\r\n",
    "                           seed)\r\n",
    "\r\n",
    "  print ('Time for epoch {} is {} sec'.format(epoch + 1, time.time()-start))\r\n",
    "\r\n",
    "# Generate the new image \r\n",
    "display.clear_output(wait=True)\r\n",
    "generate_and_save_images(generator,\r\n",
    "                         EPOCHS,\r\n",
    "                         seed)"
   ]
  },
  {
   "cell_type": "code",
   "execution_count": null,
   "metadata": {},
   "outputs": [],
   "source": []
  }
 ],
 "metadata": {
  "colab": {
   "authorship_tag": "ABX9TyNID4Xf/BmBbByomzibKoGc",
   "name": "GAN.ipynb",
   "provenance": []
  },
  "kernelspec": {
   "display_name": "Python 3",
   "language": "python",
   "name": "python3"
  },
  "language_info": {
   "codemirror_mode": {
    "name": "ipython",
    "version": 3
   },
   "file_extension": ".py",
   "mimetype": "text/x-python",
   "name": "python",
   "nbconvert_exporter": "python",
   "pygments_lexer": "ipython3",
   "version": "3.9.2"
  }
 },
 "nbformat": 4,
 "nbformat_minor": 4
}
